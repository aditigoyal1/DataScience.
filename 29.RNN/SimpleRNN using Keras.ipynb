{
 "cells": [
  {
   "cell_type": "code",
   "execution_count": 28,
   "metadata": {},
   "outputs": [],
   "source": [
    "from pandas import read_csv\n",
    "import numpy as np"
   ]
  },
  {
   "cell_type": "code",
   "execution_count": 29,
   "metadata": {},
   "outputs": [],
   "source": [
    "df=read_csv('international-airline-passengers.csv',usecols=[1])"
   ]
  },
  {
   "cell_type": "code",
   "execution_count": 30,
   "metadata": {},
   "outputs": [
    {
     "data": {
      "text/html": [
       "<div>\n",
       "<style scoped>\n",
       "    .dataframe tbody tr th:only-of-type {\n",
       "        vertical-align: middle;\n",
       "    }\n",
       "\n",
       "    .dataframe tbody tr th {\n",
       "        vertical-align: top;\n",
       "    }\n",
       "\n",
       "    .dataframe thead th {\n",
       "        text-align: right;\n",
       "    }\n",
       "</style>\n",
       "<table border=\"1\" class=\"dataframe\">\n",
       "  <thead>\n",
       "    <tr style=\"text-align: right;\">\n",
       "      <th></th>\n",
       "      <th>International airline passengers: monthly totals in thousands. Jan 49 ? Dec 60</th>\n",
       "    </tr>\n",
       "  </thead>\n",
       "  <tbody>\n",
       "    <tr>\n",
       "      <td>count</td>\n",
       "      <td>144.000000</td>\n",
       "    </tr>\n",
       "    <tr>\n",
       "      <td>mean</td>\n",
       "      <td>280.298611</td>\n",
       "    </tr>\n",
       "    <tr>\n",
       "      <td>std</td>\n",
       "      <td>119.966317</td>\n",
       "    </tr>\n",
       "    <tr>\n",
       "      <td>min</td>\n",
       "      <td>104.000000</td>\n",
       "    </tr>\n",
       "    <tr>\n",
       "      <td>25%</td>\n",
       "      <td>180.000000</td>\n",
       "    </tr>\n",
       "    <tr>\n",
       "      <td>50%</td>\n",
       "      <td>265.500000</td>\n",
       "    </tr>\n",
       "    <tr>\n",
       "      <td>75%</td>\n",
       "      <td>360.500000</td>\n",
       "    </tr>\n",
       "    <tr>\n",
       "      <td>max</td>\n",
       "      <td>622.000000</td>\n",
       "    </tr>\n",
       "  </tbody>\n",
       "</table>\n",
       "</div>"
      ],
      "text/plain": [
       "       International airline passengers: monthly totals in thousands. Jan 49 ? Dec 60\n",
       "count                                         144.000000                             \n",
       "mean                                          280.298611                             \n",
       "std                                           119.966317                             \n",
       "min                                           104.000000                             \n",
       "25%                                           180.000000                             \n",
       "50%                                           265.500000                             \n",
       "75%                                           360.500000                             \n",
       "max                                           622.000000                             "
      ]
     },
     "execution_count": 30,
     "metadata": {},
     "output_type": "execute_result"
    }
   ],
   "source": [
    "df.describe()"
   ]
  },
  {
   "cell_type": "code",
   "execution_count": 31,
   "metadata": {},
   "outputs": [
    {
     "data": {
      "text/plain": [
       "(144, 1)"
      ]
     },
     "execution_count": 31,
     "metadata": {},
     "output_type": "execute_result"
    }
   ],
   "source": [
    "values=df.values.astype('float32')\n",
    "values.shape"
   ]
  },
  {
   "cell_type": "code",
   "execution_count": 32,
   "metadata": {},
   "outputs": [],
   "source": [
    "train_size=int((values.shape[0]*(2/3)))"
   ]
  },
  {
   "cell_type": "code",
   "execution_count": 33,
   "metadata": {},
   "outputs": [
    {
     "data": {
      "text/plain": [
       "96"
      ]
     },
     "execution_count": 33,
     "metadata": {},
     "output_type": "execute_result"
    }
   ],
   "source": [
    "train_size\n"
   ]
  },
  {
   "cell_type": "code",
   "execution_count": 34,
   "metadata": {},
   "outputs": [],
   "source": [
    "train=values[0:train_size]\n",
    "test=values[train_size:]"
   ]
  },
  {
   "cell_type": "code",
   "execution_count": 35,
   "metadata": {},
   "outputs": [
    {
     "data": {
      "text/plain": [
       "(96, 1)"
      ]
     },
     "execution_count": 35,
     "metadata": {},
     "output_type": "execute_result"
    }
   ],
   "source": [
    "train.shape"
   ]
  },
  {
   "cell_type": "code",
   "execution_count": 36,
   "metadata": {},
   "outputs": [
    {
     "data": {
      "text/plain": [
       "(48, 1)"
      ]
     },
     "execution_count": 36,
     "metadata": {},
     "output_type": "execute_result"
    }
   ],
   "source": [
    "test.shape\n"
   ]
  },
  {
   "cell_type": "code",
   "execution_count": 37,
   "metadata": {},
   "outputs": [],
   "source": [
    "from sklearn.preprocessing import MinMaxScaler\n",
    "scaler=MinMaxScaler(feature_range=(0,1))\n",
    "train=scaler.fit_transform(train)\n",
    "test=scaler.transform(test)"
   ]
  },
  {
   "cell_type": "code",
   "execution_count": 38,
   "metadata": {},
   "outputs": [],
   "source": [
    "def create_dataset(data,k):\n",
    "    dataX,dataY=[],[]\n",
    "    for i in range(data.shape[0]-k):\n",
    "        dataX.append(data[i:i+k,0])\n",
    "        dataY.append(data[i+k,0])\n",
    "        \n",
    "    return np.array(dataX),np.array(dataY)    "
   ]
  },
  {
   "cell_type": "code",
   "execution_count": 40,
   "metadata": {},
   "outputs": [],
   "source": [
    "look_back=12\n",
    "TestX,TestY=create_dataset(test,12)\n",
    "TrainX,TrainY=create_dataset(train,12)"
   ]
  },
  {
   "cell_type": "code",
   "execution_count": 42,
   "metadata": {},
   "outputs": [],
   "source": [
    "from keras.models import Sequential\n",
    "from keras.layers import SimpleRNN,Dense"
   ]
  },
  {
   "cell_type": "code",
   "execution_count": 44,
   "metadata": {},
   "outputs": [],
   "source": [
    "TrainX=np.reshape(TrainX,(TrainX.shape[0],TrainX.shape[1],1))"
   ]
  },
  {
   "cell_type": "code",
   "execution_count": 45,
   "metadata": {},
   "outputs": [
    {
     "name": "stdout",
     "output_type": "stream",
     "text": [
      "Epoch 1/100\n",
      "84/84 [==============================] - 4s 43ms/step - loss: 0.0525\n",
      "Epoch 2/100\n",
      "84/84 [==============================] - 1s 9ms/step - loss: 0.0266\n",
      "Epoch 3/100\n",
      "84/84 [==============================] - 1s 9ms/step - loss: 0.0207\n",
      "Epoch 4/100\n",
      "84/84 [==============================] - 1s 9ms/step - loss: 0.0181\n",
      "Epoch 5/100\n",
      "84/84 [==============================] - 1s 9ms/step - loss: 0.0163\n",
      "Epoch 6/100\n",
      "84/84 [==============================] - 1s 9ms/step - loss: 0.0146\n",
      "Epoch 7/100\n",
      "84/84 [==============================] - 1s 9ms/step - loss: 0.0130\n",
      "Epoch 8/100\n",
      "84/84 [==============================] - 1s 9ms/step - loss: 0.0124\n",
      "Epoch 9/100\n",
      "84/84 [==============================] - 1s 9ms/step - loss: 0.0113\n",
      "Epoch 10/100\n",
      "84/84 [==============================] - 1s 9ms/step - loss: 0.0103\n",
      "Epoch 11/100\n",
      "84/84 [==============================] - 1s 9ms/step - loss: 0.0099\n",
      "Epoch 12/100\n",
      "84/84 [==============================] - 1s 9ms/step - loss: 0.0089\n",
      "Epoch 13/100\n",
      "84/84 [==============================] - 1s 10ms/step - loss: 0.0092\n",
      "Epoch 14/100\n",
      "84/84 [==============================] - 1s 8ms/step - loss: 0.0082\n",
      "Epoch 15/100\n",
      "84/84 [==============================] - 1s 9ms/step - loss: 0.0080\n",
      "Epoch 16/100\n",
      "84/84 [==============================] - 1s 9ms/step - loss: 0.0073\n",
      "Epoch 17/100\n",
      "84/84 [==============================] - 1s 10ms/step - loss: 0.0068\n",
      "Epoch 18/100\n",
      "84/84 [==============================] - 1s 9ms/step - loss: 0.0067\n",
      "Epoch 19/100\n",
      "84/84 [==============================] - 1s 10ms/step - loss: 0.0064\n",
      "Epoch 20/100\n",
      "84/84 [==============================] - 1s 9ms/step - loss: 0.0060\n",
      "Epoch 21/100\n",
      "84/84 [==============================] - 1s 9ms/step - loss: 0.0053\n",
      "Epoch 22/100\n",
      "84/84 [==============================] - 1s 9ms/step - loss: 0.0052\n",
      "Epoch 23/100\n",
      "84/84 [==============================] - 1s 11ms/step - loss: 0.0050: 0s\n",
      "Epoch 24/100\n",
      "84/84 [==============================] - 1s 9ms/step - loss: 0.0051\n",
      "Epoch 25/100\n",
      "84/84 [==============================] - 1s 10ms/step - loss: 0.0047\n",
      "Epoch 26/100\n",
      "84/84 [==============================] - 1s 8ms/step - loss: 0.0046\n",
      "Epoch 27/100\n",
      "84/84 [==============================] - 1s 8ms/step - loss: 0.0042\n",
      "Epoch 28/100\n",
      "84/84 [==============================] - 1s 8ms/step - loss: 0.0042\n",
      "Epoch 29/100\n",
      "84/84 [==============================] - 1s 8ms/step - loss: 0.0040\n",
      "Epoch 30/100\n",
      "84/84 [==============================] - 1s 9ms/step - loss: 0.0038\n",
      "Epoch 31/100\n",
      "84/84 [==============================] - 1s 8ms/step - loss: 0.0044\n",
      "Epoch 32/100\n",
      "84/84 [==============================] - 1s 8ms/step - loss: 0.0036\n",
      "Epoch 33/100\n",
      "84/84 [==============================] - 1s 9ms/step - loss: 0.0044\n",
      "Epoch 34/100\n",
      "84/84 [==============================] - 1s 9ms/step - loss: 0.0035\n",
      "Epoch 35/100\n",
      "84/84 [==============================] - 1s 9ms/step - loss: 0.0036\n",
      "Epoch 36/100\n",
      "84/84 [==============================] - 1s 10ms/step - loss: 0.0038\n",
      "Epoch 37/100\n",
      "84/84 [==============================] - 1s 8ms/step - loss: 0.0032\n",
      "Epoch 38/100\n",
      "84/84 [==============================] - 1s 9ms/step - loss: 0.0034\n",
      "Epoch 39/100\n",
      "84/84 [==============================] - 1s 9ms/step - loss: 0.0037\n",
      "Epoch 40/100\n",
      "84/84 [==============================] - 1s 10ms/step - loss: 0.0033\n",
      "Epoch 41/100\n",
      "84/84 [==============================] - 1s 9ms/step - loss: 0.0034\n",
      "Epoch 42/100\n",
      "84/84 [==============================] - 1s 7ms/step - loss: 0.0032\n",
      "Epoch 43/100\n",
      "84/84 [==============================] - 1s 9ms/step - loss: 0.0033\n",
      "Epoch 44/100\n",
      "84/84 [==============================] - 1s 9ms/step - loss: 0.0034\n",
      "Epoch 45/100\n",
      "84/84 [==============================] - 1s 9ms/step - loss: 0.0035\n",
      "Epoch 46/100\n",
      "84/84 [==============================] - 1s 10ms/step - loss: 0.0034\n",
      "Epoch 47/100\n",
      "84/84 [==============================] - 1s 9ms/step - loss: 0.0029\n",
      "Epoch 48/100\n",
      "84/84 [==============================] - 1s 8ms/step - loss: 0.0035\n",
      "Epoch 49/100\n",
      "84/84 [==============================] - 1s 10ms/step - loss: 0.0032\n",
      "Epoch 50/100\n",
      "84/84 [==============================] - 1s 9ms/step - loss: 0.0029\n",
      "Epoch 51/100\n",
      "84/84 [==============================] - 1s 7ms/step - loss: 0.0032\n",
      "Epoch 52/100\n",
      "84/84 [==============================] - 1s 9ms/step - loss: 0.0030\n",
      "Epoch 53/100\n",
      "84/84 [==============================] - 1s 9ms/step - loss: 0.0029\n",
      "Epoch 54/100\n",
      "84/84 [==============================] - 1s 10ms/step - loss: 0.0032\n",
      "Epoch 55/100\n",
      "84/84 [==============================] - 1s 9ms/step - loss: 0.0029\n",
      "Epoch 56/100\n",
      "84/84 [==============================] - 1s 9ms/step - loss: 0.0030\n",
      "Epoch 57/100\n",
      "84/84 [==============================] - 1s 8ms/step - loss: 0.0028\n",
      "Epoch 58/100\n",
      "84/84 [==============================] - 1s 9ms/step - loss: 0.0036\n",
      "Epoch 59/100\n",
      "84/84 [==============================] - 1s 9ms/step - loss: 0.0030\n",
      "Epoch 60/100\n",
      "84/84 [==============================] - 1s 9ms/step - loss: 0.0030\n",
      "Epoch 61/100\n",
      "84/84 [==============================] - 1s 10ms/step - loss: 0.0028\n",
      "Epoch 62/100\n",
      "84/84 [==============================] - 1s 9ms/step - loss: 0.0029\n",
      "Epoch 63/100\n",
      "84/84 [==============================] - 1s 8ms/step - loss: 0.0028\n",
      "Epoch 64/100\n",
      "84/84 [==============================] - 1s 9ms/step - loss: 0.0030\n",
      "Epoch 65/100\n",
      "84/84 [==============================] - 1s 9ms/step - loss: 0.0030\n",
      "Epoch 66/100\n",
      "84/84 [==============================] - 1s 9ms/step - loss: 0.0031\n",
      "Epoch 67/100\n",
      "84/84 [==============================] - 1s 9ms/step - loss: 0.0030\n",
      "Epoch 68/100\n",
      "84/84 [==============================] - 1s 9ms/step - loss: 0.0029\n",
      "Epoch 69/100\n",
      "84/84 [==============================] - 1s 9ms/step - loss: 0.0029\n",
      "Epoch 70/100\n",
      "84/84 [==============================] - 1s 8ms/step - loss: 0.0029\n",
      "Epoch 71/100\n",
      "84/84 [==============================] - 1s 8ms/step - loss: 0.0032\n",
      "Epoch 72/100\n",
      "84/84 [==============================] - 1s 8ms/step - loss: 0.0030\n",
      "Epoch 73/100\n",
      "84/84 [==============================] - 1s 9ms/step - loss: 0.0029\n",
      "Epoch 74/100\n",
      "84/84 [==============================] - 1s 10ms/step - loss: 0.0027\n",
      "Epoch 75/100\n",
      "84/84 [==============================] - 1s 9ms/step - loss: 0.0027\n",
      "Epoch 76/100\n",
      "84/84 [==============================] - 1s 9ms/step - loss: 0.0029\n",
      "Epoch 77/100\n",
      "84/84 [==============================] - 1s 9ms/step - loss: 0.0026\n",
      "Epoch 78/100\n",
      "84/84 [==============================] - 1s 9ms/step - loss: 0.0031\n",
      "Epoch 79/100\n",
      "84/84 [==============================] - 1s 8ms/step - loss: 0.0026\n",
      "Epoch 80/100\n",
      "84/84 [==============================] - 1s 9ms/step - loss: 0.0027\n",
      "Epoch 81/100\n",
      "84/84 [==============================] - 1s 9ms/step - loss: 0.0028\n",
      "Epoch 82/100\n",
      "84/84 [==============================] - 1s 9ms/step - loss: 0.0027\n",
      "Epoch 83/100\n",
      "84/84 [==============================] - 1s 8ms/step - loss: 0.0025\n",
      "Epoch 84/100\n",
      "84/84 [==============================] - ETA: 0s - loss: 0.002 - 1s 9ms/step - loss: 0.0026\n",
      "Epoch 85/100\n",
      "84/84 [==============================] - 1s 9ms/step - loss: 0.0028\n",
      "Epoch 86/100\n",
      "84/84 [==============================] - 1s 9ms/step - loss: 0.0027\n",
      "Epoch 87/100\n",
      "84/84 [==============================] - ETA: 0s - loss: 0.002 - 1s 9ms/step - loss: 0.0025\n",
      "Epoch 88/100\n",
      "84/84 [==============================] - 1s 10ms/step - loss: 0.0024: 0s - loss: 0\n",
      "Epoch 89/100\n",
      "84/84 [==============================] - 1s 9ms/step - loss: 0.0024\n",
      "Epoch 90/100\n",
      "84/84 [==============================] - 1s 9ms/step - loss: 0.0026\n",
      "Epoch 91/100\n",
      "84/84 [==============================] - 1s 9ms/step - loss: 0.0029\n",
      "Epoch 92/100\n",
      "84/84 [==============================] - 1s 8ms/step - loss: 0.0028\n",
      "Epoch 93/100\n",
      "84/84 [==============================] - 1s 9ms/step - loss: 0.0025\n",
      "Epoch 94/100\n",
      "84/84 [==============================] - 1s 8ms/step - loss: 0.0026\n",
      "Epoch 95/100\n",
      "84/84 [==============================] - 1s 9ms/step - loss: 0.0025\n",
      "Epoch 96/100\n",
      "84/84 [==============================] - 1s 8ms/step - loss: 0.0028\n",
      "Epoch 97/100\n",
      "84/84 [==============================] - 1s 9ms/step - loss: 0.0023\n",
      "Epoch 98/100\n",
      "84/84 [==============================] - 1s 9ms/step - loss: 0.0028\n",
      "Epoch 99/100\n",
      "84/84 [==============================] - 1s 9ms/step - loss: 0.0025\n",
      "Epoch 100/100\n",
      "84/84 [==============================] - 1s 9ms/step - loss: 0.0028\n"
     ]
    },
    {
     "data": {
      "text/plain": [
       "<keras.callbacks.callbacks.History at 0x1bdabefea08>"
      ]
     },
     "execution_count": 45,
     "metadata": {},
     "output_type": "execute_result"
    }
   ],
   "source": [
    "model=Sequential()\n",
    "model.add(SimpleRNN(4,input_shape=(look_back,1)))\n",
    "model.add(Dense(1))\n",
    "model.compile(loss=\"mean_squared_error\",optimizer=\"adam\")\n",
    "model.fit(TrainX,TrainY,epochs=100,batch_size=1)"
   ]
  },
  {
   "cell_type": "code",
   "execution_count": 61,
   "metadata": {},
   "outputs": [],
   "source": [
    "TestX=np.reshape(TestX,(TestX.shape[0],TestX.shape[1],1))\n",
    "testPredict=model.predict(TestX)\n",
    "testPredict=scaler.inverse_transform(testPredict).ravel()\n",
    "\n",
    "trainPredict=model.predict(TrainX)\n",
    "trainPredict=scaler.inverse_transform(trainPredict).ravel()\n",
    "\n",
    "testTrue=scaler.inverse_transform([TestY]).ravel()\n",
    "trainTrue=scaler.inverse_transform([TrainY]).ravel()\n",
    "\n",
    "\n"
   ]
  },
  {
   "cell_type": "code",
   "execution_count": 62,
   "metadata": {},
   "outputs": [],
   "source": [
    "from matplotlib import pyplot as plt\n"
   ]
  },
  {
   "cell_type": "code",
   "execution_count": 63,
   "metadata": {},
   "outputs": [
    {
     "data": {
      "image/png": "[encoded data removed]",
      "text/plain": [
       "<Figure size 432x288 with 1 Axes>"
      ]
     },
     "metadata": {
      "needs_background": "light"
     },
     "output_type": "display_data"
    }
   ],
   "source": [
    "plt.plot(trainPredict,c='b')\n",
    "plt.plot(trainTrue,c='g')\n",
    "plt.show()\n"
   ]
  },
  {
   "cell_type": "code",
   "execution_count": 64,
   "metadata": {},
   "outputs": [
    {
     "data": {
      "text/plain": [
       "(84,)"
      ]
     },
     "execution_count": 64,
     "metadata": {},
     "output_type": "execute_result"
    }
   ],
   "source": [
    "trainPredict.shape"
   ]
  },
  {
   "cell_type": "code",
   "execution_count": 65,
   "metadata": {},
   "outputs": [
    {
     "data": {
      "text/plain": [
       "(84,)"
      ]
     },
     "execution_count": 65,
     "metadata": {},
     "output_type": "execute_result"
    }
   ],
   "source": [
    "trainTrue.shape"
   ]
  },
  {
   "cell_type": "code",
   "execution_count": 66,
   "metadata": {},
   "outputs": [
    {
     "data": {
      "image/png": "[encoded data removed]",
      "text/plain": [
       "<Figure size 432x288 with 1 Axes>"
      ]
     },
     "metadata": {
      "needs_background": "light"
     },
     "output_type": "display_data"
    }
   ],
   "source": [
    "combinedPredicted=np.concatenate((trainPredict,testPredict))\n",
    "combinedTrue=np.concatenate((trainTrue,testTrue))\n",
    "plt.plot(combinedPredicted,c='b')\n",
    "plt.plot(combinedTrue,c='g')\n",
    "plt.show()\n"
   ]
  },
  {
   "cell_type": "code",
   "execution_count": null,
   "metadata": {},
   "outputs": [],
   "source": []
  }
 ],
 "metadata": {
  "kernelspec": {
   "display_name": "Python 3",
   "language": "python",
   "name": "python3"
  },
  "language_info": {
   "codemirror_mode": {
    "name": "ipython",
    "version": 3
   },
   "file_extension": ".py",
   "mimetype": "text/x-python",
   "name": "python",
   "nbconvert_exporter": "python",
   "pygments_lexer": "ipython3",
   "version": "3.7.4"
  }
 },
 "nbformat": 4,
 "nbformat_minor": 2
}
