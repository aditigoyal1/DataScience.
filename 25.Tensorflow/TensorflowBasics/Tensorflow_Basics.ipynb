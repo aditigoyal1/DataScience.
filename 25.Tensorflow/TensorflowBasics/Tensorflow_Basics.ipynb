{
  "nbformat": 4,
  "nbformat_minor": 0,
  "metadata": {
    "colab": {
      "name": "Tensorflow Basics.ipynb",
      "provenance": [],
      "collapsed_sections": [],
      "mount_file_id": "1ozOcF92gJ_VBC6pzEOwuJzsTHr0lKQXw",
      "authorship_tag": "ABX9TyMFbP1frr0C1Kv6+QOahplu",
      "include_colab_link": true
    },
    "kernelspec": {
      "name": "python3",
      "display_name": "Python 3"
    }
  },
  "cells": [
    {
      "cell_type": "markdown",
      "metadata": {
        "id": "view-in-github",
        "colab_type": "text"
      },
      "source": [
        "<a href=\"https://colab.research.google.com/github/aditigoyal1/DataScience./blob/master/25.Tensorflow/TensorflowBasics/Tensorflow_Basics.ipynb\" target=\"_parent\"><img src=\"https://colab.research.google.com/assets/colab-badge.svg\" alt=\"Open In Colab\"/></a>"
      ]
    },
    {
      "cell_type": "code",
      "metadata": {
        "id": "5L-GiQC4deeL",
        "colab_type": "code",
        "colab": {}
      },
      "source": [
        "import tensorflow.compat.v1 as tf"
      ],
      "execution_count": 0,
      "outputs": []
    },
    {
      "cell_type": "code",
      "metadata": {
        "id": "pDiEBqDELzbj",
        "colab_type": "code",
        "outputId": "72f28a96-8b46-444b-9c8c-b021acc3c8ef",
        "colab": {
          "base_uri": "https://localhost:8080/",
          "height": 34
        }
      },
      "source": [
        "sess=tf.Session()\n",
        "tf.disable_eager_execution()\n",
        "##constants\n",
        "a=tf.constant(2)\n",
        "a"
      ],
      "execution_count": 0,
      "outputs": [
        {
          "output_type": "execute_result",
          "data": {
            "text/plain": [
              "<tf.Tensor 'Const:0' shape=() dtype=int32>"
            ]
          },
          "metadata": {
            "tags": []
          },
          "execution_count": 10
        }
      ]
    },
    {
      "cell_type": "code",
      "metadata": {
        "id": "8fLpB-f4MZWt",
        "colab_type": "code",
        "colab": {}
      },
      "source": [
        "b=tf.constant(5)"
      ],
      "execution_count": 0,
      "outputs": []
    },
    {
      "cell_type": "code",
      "metadata": {
        "id": "zZCWInOPMjIB",
        "colab_type": "code",
        "colab": {}
      },
      "source": [
        "c=a+b"
      ],
      "execution_count": 0,
      "outputs": []
    },
    {
      "cell_type": "code",
      "metadata": {
        "id": "uejTEC1hMktU",
        "colab_type": "code",
        "colab": {}
      },
      "source": [
        "sess=tf.compat.v1.Session()\n",
        "a_val=sess.run(a+b)"
      ],
      "execution_count": 0,
      "outputs": []
    },
    {
      "cell_type": "code",
      "metadata": {
        "id": "rue8YbNuMuf1",
        "colab_type": "code",
        "outputId": "a94086b2-f3e1-4205-cb92-eafd23826ce2",
        "colab": {
          "base_uri": "https://localhost:8080/",
          "height": 34
        }
      },
      "source": [
        "type(a_val)"
      ],
      "execution_count": 0,
      "outputs": [
        {
          "output_type": "execute_result",
          "data": {
            "text/plain": [
              "numpy.int32"
            ]
          },
          "metadata": {
            "tags": []
          },
          "execution_count": 15
        }
      ]
    },
    {
      "cell_type": "code",
      "metadata": {
        "id": "6h1ZyAWPOLcw",
        "colab_type": "code",
        "outputId": "37971c21-afed-43d4-d8d6-5f458fd0a61e",
        "colab": {
          "base_uri": "https://localhost:8080/",
          "height": 34
        }
      },
      "source": [
        "a1=tf.constant([[3,3]])\n",
        "a2=tf.constant([[3],[3]])\n",
        "tf.matmul(a1,a2)"
      ],
      "execution_count": 0,
      "outputs": [
        {
          "output_type": "execute_result",
          "data": {
            "text/plain": [
              "<tf.Tensor 'MatMul:0' shape=(1, 1) dtype=int32>"
            ]
          },
          "metadata": {
            "tags": []
          },
          "execution_count": 16
        }
      ]
    },
    {
      "cell_type": "code",
      "metadata": {
        "id": "-S7qg0F2Ocx9",
        "colab_type": "code",
        "colab": {}
      },
      "source": [
        "b_val=sess.run(tf.matmul(a1,a2))"
      ],
      "execution_count": 0,
      "outputs": []
    },
    {
      "cell_type": "code",
      "metadata": {
        "id": "xYJp3cb8Op-V",
        "colab_type": "code",
        "outputId": "5ef73f58-4e77-4fd4-bafe-2872d80590fe",
        "colab": {
          "base_uri": "https://localhost:8080/",
          "height": 34
        }
      },
      "source": [
        "print(b_val)"
      ],
      "execution_count": 0,
      "outputs": [
        {
          "output_type": "stream",
          "text": [
            "[[18]]\n"
          ],
          "name": "stdout"
        }
      ]
    },
    {
      "cell_type": "code",
      "metadata": {
        "id": "RkaGVhQtOrxA",
        "colab_type": "code",
        "outputId": "7e8d4cb8-5473-4886-9f0c-cb435a7028e6",
        "colab": {
          "base_uri": "https://localhost:8080/",
          "height": 34
        }
      },
      "source": [
        "##Session\n",
        "\n",
        "with tf.Session() as sess:\n",
        "  print(c.eval())\n"
      ],
      "execution_count": 0,
      "outputs": [
        {
          "output_type": "stream",
          "text": [
            "7\n"
          ],
          "name": "stdout"
        }
      ]
    },
    {
      "cell_type": "code",
      "metadata": {
        "id": "Omi9c0pUPTfn",
        "colab_type": "code",
        "outputId": "26e8f323-a391-4bc0-f51b-b1ebb9725e8d",
        "colab": {
          "base_uri": "https://localhost:8080/",
          "height": 51
        }
      },
      "source": [
        "##Variables\n",
        "\n",
        "var1=tf.Variable(100)\n",
        "print(var1)\n",
        "var2=tf.Variable([[344]])\n",
        "print(var2)"
      ],
      "execution_count": 0,
      "outputs": [
        {
          "output_type": "stream",
          "text": [
            "<tf.Variable 'Variable_5:0' shape=() dtype=int32>\n",
            "<tf.Variable 'Variable_6:0' shape=(1, 1) dtype=int32>\n"
          ],
          "name": "stdout"
        }
      ]
    },
    {
      "cell_type": "code",
      "metadata": {
        "id": "3PvsHyV0QK76",
        "colab_type": "code",
        "outputId": "dd675fed-f027-435f-8cc8-8f5a83d49741",
        "colab": {
          "base_uri": "https://localhost:8080/",
          "height": 34
        }
      },
      "source": [
        "var3=tf.Variable(45)\n",
        "sum=tf.add(var1,var3)\n",
        "sess=tf.Session()\n",
        "sess.run(tf.global_variables_initializer())\n",
        "sess.run(sum)"
      ],
      "execution_count": 0,
      "outputs": [
        {
          "output_type": "execute_result",
          "data": {
            "text/plain": [
              "145"
            ]
          },
          "metadata": {
            "tags": []
          },
          "execution_count": 30
        }
      ]
    },
    {
      "cell_type": "code",
      "metadata": {
        "id": "UdyCMEgLQwZW",
        "colab_type": "code",
        "outputId": "616f28e5-02f4-4b35-c911-0bd3b870d501",
        "colab": {
          "base_uri": "https://localhost:8080/",
          "height": 34
        }
      },
      "source": [
        "#change the value of variable\n",
        "sess.run(var1.assign(12222))\n",
        "sess.run(var1)"
      ],
      "execution_count": 0,
      "outputs": [
        {
          "output_type": "execute_result",
          "data": {
            "text/plain": [
              "12222"
            ]
          },
          "metadata": {
            "tags": []
          },
          "execution_count": 31
        }
      ]
    },
    {
      "cell_type": "code",
      "metadata": {
        "id": "-YiTajiMRldO",
        "colab_type": "code",
        "outputId": "5b96bd56-e6b7-4a13-a6a5-981d96d258ee",
        "colab": {
          "base_uri": "https://localhost:8080/",
          "height": 34
        }
      },
      "source": [
        "##placeholders\n",
        "x=tf.placeholder(tf.int32)\n",
        "y=x*tf.constant(12)\n",
        "sess.run(y,feed_dict={x:456})"
      ],
      "execution_count": 0,
      "outputs": [
        {
          "output_type": "execute_result",
          "data": {
            "text/plain": [
              "5472"
            ]
          },
          "metadata": {
            "tags": []
          },
          "execution_count": 32
        }
      ]
    },
    {
      "cell_type": "code",
      "metadata": {
        "id": "sN5TiFJSS5IN",
        "colab_type": "code",
        "outputId": "e861cd56-fff9-432a-cf85-34e2a7b88457",
        "colab": {
          "base_uri": "https://localhost:8080/",
          "height": 51
        }
      },
      "source": [
        "x=tf.placeholder(tf.int32,shape=(2,3))\n",
        "y=x*tf.constant(12)\n",
        "sess.run(y,feed_dict={x:[[1,2,3],[1,4,5]]})"
      ],
      "execution_count": 0,
      "outputs": [
        {
          "output_type": "execute_result",
          "data": {
            "text/plain": [
              "array([[12, 24, 36],\n",
              "       [12, 48, 60]], dtype=int32)"
            ]
          },
          "metadata": {
            "tags": []
          },
          "execution_count": 33
        }
      ]
    },
    {
      "cell_type": "code",
      "metadata": {
        "id": "lqAUhTecTk_E",
        "colab_type": "code",
        "outputId": "e9b8b8b2-5876-4d1d-8025-ea95244e4bf1",
        "colab": {
          "base_uri": "https://localhost:8080/",
          "height": 34
        }
      },
      "source": [
        "!pwd"
      ],
      "execution_count": 0,
      "outputs": [
        {
          "output_type": "stream",
          "text": [
            "/content\n"
          ],
          "name": "stdout"
        }
      ]
    },
    {
      "cell_type": "code",
      "metadata": {
        "id": "eycM7HqmZYYE",
        "colab_type": "code",
        "colab": {}
      },
      "source": [
        ""
      ],
      "execution_count": 0,
      "outputs": []
    }
  ]
}